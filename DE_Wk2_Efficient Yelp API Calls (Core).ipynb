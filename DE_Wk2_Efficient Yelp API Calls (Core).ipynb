{
 "cells": [
  {
   "cell_type": "code",
   "execution_count": 77,
   "id": "30b48fe8",
   "metadata": {},
   "outputs": [],
   "source": [
    "# Standard Imports\n",
    "import numpy as np\n",
    "import pandas as pd\n",
    "import matplotlib.pyplot as plt\n",
    "import seaborn as sns\n",
    "# Additional Imports\n",
    "import os, json, math, time\n",
    "from yelpapi import YelpAPI\n",
    "from tqdm.notebook import tqdm_notebook"
   ]
  },
  {
   "cell_type": "code",
   "execution_count": 78,
   "id": "53b4e30d",
   "metadata": {},
   "outputs": [],
   "source": [
    "# Load API Credentials\n",
    "with open('/Users/thoma/.secret/yelp_api.json') as f:   #use your path here!\n",
    "    login = json.load(f)\n",
    "# Instantiate YelpAPI Variable\n",
    "yelp_api = YelpAPI(login['api-key'], timeout_s=5.0)"
   ]
  },
  {
   "cell_type": "code",
   "execution_count": 79,
   "id": "3bf9755b",
   "metadata": {},
   "outputs": [],
   "source": [
    "# set our API call parameters and filename before the first call\n",
    "LOCATION = 'San Diego'\n",
    "TERM = 'Pasta'"
   ]
  },
  {
   "cell_type": "code",
   "execution_count": 80,
   "id": "89a1e988",
   "metadata": {},
   "outputs": [
    {
     "data": {
      "text/plain": [
       "'Data/results_SanDiego_Pasta.json'"
      ]
     },
     "execution_count": 80,
     "metadata": {},
     "output_type": "execute_result"
    }
   ],
   "source": [
    "# Specifying JSON_FILE filename (can include a folder)\n",
    "# include the search terms in the filename\n",
    "JSON_FILE = f\"Data/results_SanDiego_Pasta.json\"\n",
    "JSON_FILE"
   ]
  },
  {
   "cell_type": "code",
   "execution_count": 81,
   "id": "37d7d391",
   "metadata": {},
   "outputs": [
    {
     "name": "stdout",
     "output_type": "stream",
     "text": [
      "[i] Data/results_SanDiego_Pasta.json not found. Saving empty list to file.\n"
     ]
    }
   ],
   "source": [
    "## Check if JSON_FILE exists\n",
    "file_exists = os.path.isfile(JSON_FILE)\n",
    "## If it does not exist: \n",
    "if file_exists == False:\n",
    "    \n",
    "    ## CREATE ANY NEEDED FOLDERS\n",
    "    # Get the Folder Name only\n",
    "    folder = os.path.dirname(JSON_FILE)\n",
    "    ## If JSON_FILE included a folder:\n",
    "    if len(folder)>0:\n",
    "        # create the folder\n",
    "        os.makedirs(folder,exist_ok=True)\n",
    "        \n",
    "        \n",
    "    ## INFORM USER AND SAVE EMPTY LIST\n",
    "    print(f\"[i] {JSON_FILE} not found. Saving empty list to file.\")\n",
    "    \n",
    "    \n",
    "    ## save the first page of results\n",
    "    with open(JSON_FILE,'w') as f:\n",
    "        json.dump([],f)  \n",
    "## If it exists, inform user\n",
    "else:\n",
    "    print(f\"[i] {JSON_FILE} already exists.\")"
   ]
  },
  {
   "cell_type": "code",
   "execution_count": 82,
   "id": "7a4887ea",
   "metadata": {},
   "outputs": [
    {
     "name": "stdout",
     "output_type": "stream",
     "text": [
      "- 0 previous results found.\n"
     ]
    }
   ],
   "source": [
    "## Load previous results and use len of results for offset\n",
    "with open(JSON_FILE,'r') as f:\n",
    "    previous_results = json.load(f)\n",
    "    \n",
    "## set offset based on previous results\n",
    "n_results = len(previous_results)\n",
    "print(f'- {n_results} previous results found.')"
   ]
  },
  {
   "cell_type": "code",
   "execution_count": 83,
   "id": "4a6b103e",
   "metadata": {},
   "outputs": [
    {
     "data": {
      "text/plain": [
       "dict_keys(['businesses', 'total', 'region'])"
      ]
     },
     "execution_count": 83,
     "metadata": {},
     "output_type": "execute_result"
    }
   ],
   "source": [
    "# use our yelp_api variable's search_query method to perform our API call\n",
    "results = yelp_api.search_query(location=LOCATION,\n",
    "                                term=TERM,\n",
    "                               offset=n_results)\n",
    "results.keys()"
   ]
  },
  {
   "cell_type": "code",
   "execution_count": 84,
   "id": "623c2fd9",
   "metadata": {},
   "outputs": [
    {
     "data": {
      "text/plain": [
       "956"
      ]
     },
     "execution_count": 84,
     "metadata": {},
     "output_type": "execute_result"
    }
   ],
   "source": [
    "## How many results total?\n",
    "total_results = results['total']\n",
    "total_results"
   ]
  },
  {
   "cell_type": "code",
   "execution_count": 85,
   "id": "4e197e18",
   "metadata": {},
   "outputs": [
    {
     "data": {
      "text/plain": [
       "20"
      ]
     },
     "execution_count": 85,
     "metadata": {},
     "output_type": "execute_result"
    }
   ],
   "source": [
    "## How many did we get the details for?\n",
    "results_per_page = len(results['businesses'])\n",
    "results_per_page"
   ]
  },
  {
   "cell_type": "code",
   "execution_count": 86,
   "id": "c7242514",
   "metadata": {},
   "outputs": [
    {
     "data": {
      "text/plain": [
       "48"
      ]
     },
     "execution_count": 86,
     "metadata": {},
     "output_type": "execute_result"
    }
   ],
   "source": [
    "# Import additional packages for controlling our loop\n",
    "import time, math\n",
    "# Use math.ceil to round up for the total number of pages of results.\n",
    "n_pages = math.ceil((results['total']-n_results)/ results_per_page)\n",
    "n_pages"
   ]
  },
  {
   "cell_type": "code",
   "execution_count": 87,
   "id": "c6db3bec",
   "metadata": {},
   "outputs": [],
   "source": [
    "# join new results with old list with extend and save to file\n",
    "previous_results.extend(results['businesses'])  \n",
    "with open(JSON_FILE,'w') as f:\n",
    "     json.dump(previous_results,f)"
   ]
  },
  {
   "cell_type": "code",
   "execution_count": 88,
   "id": "24615b43",
   "metadata": {},
   "outputs": [
    {
     "data": {
      "application/vnd.jupyter.widget-view+json": {
       "model_id": "fd91559e40634368b7ca08bd3712fd90",
       "version_major": 2,
       "version_minor": 0
      },
      "text/plain": [
       "  0%|          | 0/48 [00:00<?, ?it/s]"
      ]
     },
     "metadata": {},
     "output_type": "display_data"
    }
   ],
   "source": [
    "# add progress bar\n",
    "from tqdm.notebook import tqdm_notebook\n",
    "import time\n",
    "for i in tqdm_notebook(range(n_pages)):\n",
    "    # adds 200 ms pause\n",
    "    time.sleep(.2) "
   ]
  },
  {
   "cell_type": "code",
   "execution_count": 89,
   "id": "9c717799",
   "metadata": {},
   "outputs": [
    {
     "data": {
      "application/vnd.jupyter.widget-view+json": {
       "model_id": "066aa3fc53b84c8a960cb54391a15691",
       "version_major": 2,
       "version_minor": 0
      },
      "text/plain": [
       "  0%|          | 0/48 [00:00<?, ?it/s]"
      ]
     },
     "metadata": {},
     "output_type": "display_data"
    }
   ],
   "source": [
    "for i in tqdm_notebook( range(1,n_pages+1)):\n",
    "    time.sleep(.2)\n",
    "    ## Read in results in progress file and check the length\n",
    "    with open(JSON_FILE, 'r') as f:\n",
    "        previous_results = json.load(f)\n",
    "    ## save number of results for to use as offset\n",
    "    n_results = len(previous_results)\n",
    "    ## use n_results as the OFFSET \n",
    "    results = yelp_api.search_query(location=LOCATION,\n",
    "                                    term=TERM, \n",
    "                                    offset=n_results)\n",
    "    \n",
    "    ## append new results and save to file\n",
    "    previous_results.extend(results['businesses'])\n",
    "    \n",
    "#     display(previous_results)\n",
    "    with open(JSON_FILE,'w') as f:\n",
    "        json.dump(previous_results,f)"
   ]
  },
  {
   "cell_type": "code",
   "execution_count": 90,
   "id": "d901805a",
   "metadata": {},
   "outputs": [
    {
     "data": {
      "text/html": [
       "<div>\n",
       "<style scoped>\n",
       "    .dataframe tbody tr th:only-of-type {\n",
       "        vertical-align: middle;\n",
       "    }\n",
       "\n",
       "    .dataframe tbody tr th {\n",
       "        vertical-align: top;\n",
       "    }\n",
       "\n",
       "    .dataframe thead th {\n",
       "        text-align: right;\n",
       "    }\n",
       "</style>\n",
       "<table border=\"1\" class=\"dataframe\">\n",
       "  <thead>\n",
       "    <tr style=\"text-align: right;\">\n",
       "      <th></th>\n",
       "      <th>id</th>\n",
       "      <th>alias</th>\n",
       "      <th>name</th>\n",
       "      <th>image_url</th>\n",
       "      <th>is_closed</th>\n",
       "      <th>url</th>\n",
       "      <th>review_count</th>\n",
       "      <th>categories</th>\n",
       "      <th>rating</th>\n",
       "      <th>coordinates</th>\n",
       "      <th>transactions</th>\n",
       "      <th>price</th>\n",
       "      <th>location</th>\n",
       "      <th>phone</th>\n",
       "      <th>display_phone</th>\n",
       "      <th>distance</th>\n",
       "    </tr>\n",
       "  </thead>\n",
       "  <tbody>\n",
       "    <tr>\n",
       "      <th>0</th>\n",
       "      <td>W0dzJ7E6R3kyAOXIlO_tbw</td>\n",
       "      <td>ristorante-illando-san-diego</td>\n",
       "      <td>Ristorante Illando</td>\n",
       "      <td>https://s3-media3.fl.yelpcdn.com/bphoto/7U-OZH...</td>\n",
       "      <td>False</td>\n",
       "      <td>https://www.yelp.com/biz/ristorante-illando-sa...</td>\n",
       "      <td>2140</td>\n",
       "      <td>[{'alias': 'italian', 'title': 'Italian'}]</td>\n",
       "      <td>4.5</td>\n",
       "      <td>{'latitude': 32.724048614502, 'longitude': -11...</td>\n",
       "      <td>[restaurant_reservation, pickup, delivery]</td>\n",
       "      <td>$$</td>\n",
       "      <td>{'address1': '1825 India Street', 'address2': ...</td>\n",
       "      <td>+16196935204</td>\n",
       "      <td>(619) 693-5204</td>\n",
       "      <td>7514.018555</td>\n",
       "    </tr>\n",
       "    <tr>\n",
       "      <th>1</th>\n",
       "      <td>ruZ45_rMndqb7aLEr6VSOw</td>\n",
       "      <td>cesarina-san-diego-3</td>\n",
       "      <td>Cesarina</td>\n",
       "      <td>https://s3-media1.fl.yelpcdn.com/bphoto/Yv3Z0k...</td>\n",
       "      <td>False</td>\n",
       "      <td>https://www.yelp.com/biz/cesarina-san-diego-3?...</td>\n",
       "      <td>1402</td>\n",
       "      <td>[{'alias': 'italian', 'title': 'Italian'}, {'a...</td>\n",
       "      <td>5.0</td>\n",
       "      <td>{'latitude': 32.74319, 'longitude': -117.23453}</td>\n",
       "      <td>[delivery]</td>\n",
       "      <td>$$</td>\n",
       "      <td>{'address1': '4161 Voltaire St', 'address2': '...</td>\n",
       "      <td>+16192266222</td>\n",
       "      <td>(619) 226-6222</td>\n",
       "      <td>9184.829871</td>\n",
       "    </tr>\n",
       "    <tr>\n",
       "      <th>2</th>\n",
       "      <td>qXRzQERT-WFDo6spPeQwZw</td>\n",
       "      <td>pesto-italian-craft-kitchen-mission-valley-san...</td>\n",
       "      <td>Pesto Italian Craft Kitchen - Mission Valley</td>\n",
       "      <td>https://s3-media2.fl.yelpcdn.com/bphoto/OVbDWc...</td>\n",
       "      <td>False</td>\n",
       "      <td>https://www.yelp.com/biz/pesto-italian-craft-k...</td>\n",
       "      <td>345</td>\n",
       "      <td>[{'alias': 'pizza', 'title': 'Pizza'}, {'alias...</td>\n",
       "      <td>4.5</td>\n",
       "      <td>{'latitude': 32.769922, 'longitude': -117.146673}</td>\n",
       "      <td>[delivery, pickup]</td>\n",
       "      <td>$$</td>\n",
       "      <td>{'address1': '1652 Camino Del Rio N', 'address...</td>\n",
       "      <td>+16196799030</td>\n",
       "      <td>(619) 679-9030</td>\n",
       "      <td>2395.158360</td>\n",
       "    </tr>\n",
       "    <tr>\n",
       "      <th>3</th>\n",
       "      <td>4GT1sQ_pcKk4gBMrJddexw</td>\n",
       "      <td>pesto-italian-craft-kitchen-college-san-diego-2</td>\n",
       "      <td>Pesto Italian Craft Kitchen College</td>\n",
       "      <td>https://s3-media3.fl.yelpcdn.com/bphoto/rFQAlX...</td>\n",
       "      <td>False</td>\n",
       "      <td>https://www.yelp.com/biz/pesto-italian-craft-k...</td>\n",
       "      <td>1730</td>\n",
       "      <td>[{'alias': 'pizza', 'title': 'Pizza'}, {'alias...</td>\n",
       "      <td>4.5</td>\n",
       "      <td>{'latitude': 32.760629, 'longitude': -117.067999}</td>\n",
       "      <td>[delivery, pickup]</td>\n",
       "      <td>$$</td>\n",
       "      <td>{'address1': '6011 El Cajon Blvd A', 'address2...</td>\n",
       "      <td>+16192652700</td>\n",
       "      <td>(619) 265-2700</td>\n",
       "      <td>8709.615928</td>\n",
       "    </tr>\n",
       "    <tr>\n",
       "      <th>4</th>\n",
       "      <td>AlO78to1upUkVhRx12XtVA</td>\n",
       "      <td>cucina-basilico-san-diego</td>\n",
       "      <td>Cucina Basilico</td>\n",
       "      <td>https://s3-media4.fl.yelpcdn.com/bphoto/iiExW4...</td>\n",
       "      <td>False</td>\n",
       "      <td>https://www.yelp.com/biz/cucina-basilico-san-d...</td>\n",
       "      <td>672</td>\n",
       "      <td>[{'alias': 'italian', 'title': 'Italian'}]</td>\n",
       "      <td>4.5</td>\n",
       "      <td>{'latitude': 32.81065, 'longitude': -117.116113}</td>\n",
       "      <td>[delivery]</td>\n",
       "      <td>$$</td>\n",
       "      <td>{'address1': '3755 Murphy Canyon Rd', 'address...</td>\n",
       "      <td>+18588746436</td>\n",
       "      <td>(858) 874-6436</td>\n",
       "      <td>4192.916038</td>\n",
       "    </tr>\n",
       "  </tbody>\n",
       "</table>\n",
       "</div>"
      ],
      "text/plain": [
       "                       id                                              alias  \\\n",
       "0  W0dzJ7E6R3kyAOXIlO_tbw                       ristorante-illando-san-diego   \n",
       "1  ruZ45_rMndqb7aLEr6VSOw                               cesarina-san-diego-3   \n",
       "2  qXRzQERT-WFDo6spPeQwZw  pesto-italian-craft-kitchen-mission-valley-san...   \n",
       "3  4GT1sQ_pcKk4gBMrJddexw    pesto-italian-craft-kitchen-college-san-diego-2   \n",
       "4  AlO78to1upUkVhRx12XtVA                          cucina-basilico-san-diego   \n",
       "\n",
       "                                           name  \\\n",
       "0                            Ristorante Illando   \n",
       "1                                      Cesarina   \n",
       "2  Pesto Italian Craft Kitchen - Mission Valley   \n",
       "3           Pesto Italian Craft Kitchen College   \n",
       "4                               Cucina Basilico   \n",
       "\n",
       "                                           image_url  is_closed  \\\n",
       "0  https://s3-media3.fl.yelpcdn.com/bphoto/7U-OZH...      False   \n",
       "1  https://s3-media1.fl.yelpcdn.com/bphoto/Yv3Z0k...      False   \n",
       "2  https://s3-media2.fl.yelpcdn.com/bphoto/OVbDWc...      False   \n",
       "3  https://s3-media3.fl.yelpcdn.com/bphoto/rFQAlX...      False   \n",
       "4  https://s3-media4.fl.yelpcdn.com/bphoto/iiExW4...      False   \n",
       "\n",
       "                                                 url  review_count  \\\n",
       "0  https://www.yelp.com/biz/ristorante-illando-sa...          2140   \n",
       "1  https://www.yelp.com/biz/cesarina-san-diego-3?...          1402   \n",
       "2  https://www.yelp.com/biz/pesto-italian-craft-k...           345   \n",
       "3  https://www.yelp.com/biz/pesto-italian-craft-k...          1730   \n",
       "4  https://www.yelp.com/biz/cucina-basilico-san-d...           672   \n",
       "\n",
       "                                          categories  rating  \\\n",
       "0         [{'alias': 'italian', 'title': 'Italian'}]     4.5   \n",
       "1  [{'alias': 'italian', 'title': 'Italian'}, {'a...     5.0   \n",
       "2  [{'alias': 'pizza', 'title': 'Pizza'}, {'alias...     4.5   \n",
       "3  [{'alias': 'pizza', 'title': 'Pizza'}, {'alias...     4.5   \n",
       "4         [{'alias': 'italian', 'title': 'Italian'}]     4.5   \n",
       "\n",
       "                                         coordinates  \\\n",
       "0  {'latitude': 32.724048614502, 'longitude': -11...   \n",
       "1    {'latitude': 32.74319, 'longitude': -117.23453}   \n",
       "2  {'latitude': 32.769922, 'longitude': -117.146673}   \n",
       "3  {'latitude': 32.760629, 'longitude': -117.067999}   \n",
       "4   {'latitude': 32.81065, 'longitude': -117.116113}   \n",
       "\n",
       "                                 transactions price  \\\n",
       "0  [restaurant_reservation, pickup, delivery]    $$   \n",
       "1                                  [delivery]    $$   \n",
       "2                          [delivery, pickup]    $$   \n",
       "3                          [delivery, pickup]    $$   \n",
       "4                                  [delivery]    $$   \n",
       "\n",
       "                                            location         phone  \\\n",
       "0  {'address1': '1825 India Street', 'address2': ...  +16196935204   \n",
       "1  {'address1': '4161 Voltaire St', 'address2': '...  +16192266222   \n",
       "2  {'address1': '1652 Camino Del Rio N', 'address...  +16196799030   \n",
       "3  {'address1': '6011 El Cajon Blvd A', 'address2...  +16192652700   \n",
       "4  {'address1': '3755 Murphy Canyon Rd', 'address...  +18588746436   \n",
       "\n",
       "    display_phone     distance  \n",
       "0  (619) 693-5204  7514.018555  \n",
       "1  (619) 226-6222  9184.829871  \n",
       "2  (619) 679-9030  2395.158360  \n",
       "3  (619) 265-2700  8709.615928  \n",
       "4  (858) 874-6436  4192.916038  "
      ]
     },
     "metadata": {},
     "output_type": "display_data"
    },
    {
     "data": {
      "text/html": [
       "<div>\n",
       "<style scoped>\n",
       "    .dataframe tbody tr th:only-of-type {\n",
       "        vertical-align: middle;\n",
       "    }\n",
       "\n",
       "    .dataframe tbody tr th {\n",
       "        vertical-align: top;\n",
       "    }\n",
       "\n",
       "    .dataframe thead th {\n",
       "        text-align: right;\n",
       "    }\n",
       "</style>\n",
       "<table border=\"1\" class=\"dataframe\">\n",
       "  <thead>\n",
       "    <tr style=\"text-align: right;\">\n",
       "      <th></th>\n",
       "      <th>id</th>\n",
       "      <th>alias</th>\n",
       "      <th>name</th>\n",
       "      <th>image_url</th>\n",
       "      <th>is_closed</th>\n",
       "      <th>url</th>\n",
       "      <th>review_count</th>\n",
       "      <th>categories</th>\n",
       "      <th>rating</th>\n",
       "      <th>coordinates</th>\n",
       "      <th>transactions</th>\n",
       "      <th>price</th>\n",
       "      <th>location</th>\n",
       "      <th>phone</th>\n",
       "      <th>display_phone</th>\n",
       "      <th>distance</th>\n",
       "    </tr>\n",
       "  </thead>\n",
       "  <tbody>\n",
       "    <tr>\n",
       "      <th>951</th>\n",
       "      <td>j_te1-9iaR9wKninc321ZA</td>\n",
       "      <td>jimbos-carlsbad</td>\n",
       "      <td>Jimbo's</td>\n",
       "      <td>https://s3-media3.fl.yelpcdn.com/bphoto/Bw6NSw...</td>\n",
       "      <td>False</td>\n",
       "      <td>https://www.yelp.com/biz/jimbos-carlsbad?adjus...</td>\n",
       "      <td>221</td>\n",
       "      <td>[{'alias': 'grocery', 'title': 'Grocery'}, {'a...</td>\n",
       "      <td>4.0</td>\n",
       "      <td>{'latitude': 33.0723073917475, 'longitude': -1...</td>\n",
       "      <td>[delivery]</td>\n",
       "      <td>$$</td>\n",
       "      <td>{'address1': '1923 Calle Barcelona', 'address2...</td>\n",
       "      <td>+17603347755</td>\n",
       "      <td>(760) 334-7755</td>\n",
       "      <td>32993.906277</td>\n",
       "    </tr>\n",
       "    <tr>\n",
       "      <th>952</th>\n",
       "      <td>_MUDy_IRMbmW9qoBbGkfmg</td>\n",
       "      <td>dominos-pizza-escondido-3</td>\n",
       "      <td>Domino's Pizza</td>\n",
       "      <td>https://s3-media2.fl.yelpcdn.com/bphoto/ELK2kM...</td>\n",
       "      <td>False</td>\n",
       "      <td>https://www.yelp.com/biz/dominos-pizza-escondi...</td>\n",
       "      <td>110</td>\n",
       "      <td>[{'alias': 'pizza', 'title': 'Pizza'}, {'alias...</td>\n",
       "      <td>2.0</td>\n",
       "      <td>{'latitude': 33.1343765258789, 'longitude': -1...</td>\n",
       "      <td>[]</td>\n",
       "      <td>$</td>\n",
       "      <td>{'address1': '120 E Lincoln Ave', 'address2': ...</td>\n",
       "      <td>+17604800800</td>\n",
       "      <td>(760) 480-0800</td>\n",
       "      <td>38748.621683</td>\n",
       "    </tr>\n",
       "    <tr>\n",
       "      <th>953</th>\n",
       "      <td>UoZgAW9b5XTP_xMMBnfDwA</td>\n",
       "      <td>panera-bread-san-diego-5</td>\n",
       "      <td>Panera Bread</td>\n",
       "      <td>https://s3-media2.fl.yelpcdn.com/bphoto/XW_qki...</td>\n",
       "      <td>False</td>\n",
       "      <td>https://www.yelp.com/biz/panera-bread-san-dieg...</td>\n",
       "      <td>214</td>\n",
       "      <td>[{'alias': 'sandwiches', 'title': 'Sandwiches'...</td>\n",
       "      <td>3.0</td>\n",
       "      <td>{'latitude': 33.019965, 'longitude': -117.114366}</td>\n",
       "      <td>[pickup, delivery]</td>\n",
       "      <td>$$</td>\n",
       "      <td>{'address1': '10430 Craftsman Way', 'address2'...</td>\n",
       "      <td>+18584511500</td>\n",
       "      <td>(858) 451-1500</td>\n",
       "      <td>25775.678988</td>\n",
       "    </tr>\n",
       "    <tr>\n",
       "      <th>954</th>\n",
       "      <td>gVhkehhbDCxyd2K1soQHqQ</td>\n",
       "      <td>pizza-hut-san-marcos-13</td>\n",
       "      <td>Pizza Hut</td>\n",
       "      <td>https://s3-media2.fl.yelpcdn.com/bphoto/0MPuzW...</td>\n",
       "      <td>False</td>\n",
       "      <td>https://www.yelp.com/biz/pizza-hut-san-marcos-...</td>\n",
       "      <td>54</td>\n",
       "      <td>[{'alias': 'pizza', 'title': 'Pizza'}, {'alias...</td>\n",
       "      <td>3.0</td>\n",
       "      <td>{'latitude': 33.132928, 'longitude': -117.121677}</td>\n",
       "      <td>[pickup, delivery]</td>\n",
       "      <td>$</td>\n",
       "      <td>{'address1': '705 Center Dr', 'address2': 'Ste...</td>\n",
       "      <td>+17604896000</td>\n",
       "      <td>(760) 489-6000</td>\n",
       "      <td>38186.255621</td>\n",
       "    </tr>\n",
       "    <tr>\n",
       "      <th>955</th>\n",
       "      <td>CO7imJydnHW1wyFP6ZPZqA</td>\n",
       "      <td>panera-bread-solana-beach</td>\n",
       "      <td>Panera Bread</td>\n",
       "      <td>https://s3-media3.fl.yelpcdn.com/bphoto/ptgZ5u...</td>\n",
       "      <td>False</td>\n",
       "      <td>https://www.yelp.com/biz/panera-bread-solana-b...</td>\n",
       "      <td>167</td>\n",
       "      <td>[{'alias': 'sandwiches', 'title': 'Sandwiches'...</td>\n",
       "      <td>3.0</td>\n",
       "      <td>{'latitude': 32.99386433036879, 'longitude': -...</td>\n",
       "      <td>[pickup, delivery]</td>\n",
       "      <td>$$</td>\n",
       "      <td>{'address1': '667 San Rodolfo Drive', 'address...</td>\n",
       "      <td>+18584810050</td>\n",
       "      <td>(858) 481-0050</td>\n",
       "      <td>24647.555727</td>\n",
       "    </tr>\n",
       "  </tbody>\n",
       "</table>\n",
       "</div>"
      ],
      "text/plain": [
       "                         id                      alias            name  \\\n",
       "951  j_te1-9iaR9wKninc321ZA            jimbos-carlsbad         Jimbo's   \n",
       "952  _MUDy_IRMbmW9qoBbGkfmg  dominos-pizza-escondido-3  Domino's Pizza   \n",
       "953  UoZgAW9b5XTP_xMMBnfDwA   panera-bread-san-diego-5    Panera Bread   \n",
       "954  gVhkehhbDCxyd2K1soQHqQ    pizza-hut-san-marcos-13       Pizza Hut   \n",
       "955  CO7imJydnHW1wyFP6ZPZqA  panera-bread-solana-beach    Panera Bread   \n",
       "\n",
       "                                             image_url  is_closed  \\\n",
       "951  https://s3-media3.fl.yelpcdn.com/bphoto/Bw6NSw...      False   \n",
       "952  https://s3-media2.fl.yelpcdn.com/bphoto/ELK2kM...      False   \n",
       "953  https://s3-media2.fl.yelpcdn.com/bphoto/XW_qki...      False   \n",
       "954  https://s3-media2.fl.yelpcdn.com/bphoto/0MPuzW...      False   \n",
       "955  https://s3-media3.fl.yelpcdn.com/bphoto/ptgZ5u...      False   \n",
       "\n",
       "                                                   url  review_count  \\\n",
       "951  https://www.yelp.com/biz/jimbos-carlsbad?adjus...           221   \n",
       "952  https://www.yelp.com/biz/dominos-pizza-escondi...           110   \n",
       "953  https://www.yelp.com/biz/panera-bread-san-dieg...           214   \n",
       "954  https://www.yelp.com/biz/pizza-hut-san-marcos-...            54   \n",
       "955  https://www.yelp.com/biz/panera-bread-solana-b...           167   \n",
       "\n",
       "                                            categories  rating  \\\n",
       "951  [{'alias': 'grocery', 'title': 'Grocery'}, {'a...     4.0   \n",
       "952  [{'alias': 'pizza', 'title': 'Pizza'}, {'alias...     2.0   \n",
       "953  [{'alias': 'sandwiches', 'title': 'Sandwiches'...     3.0   \n",
       "954  [{'alias': 'pizza', 'title': 'Pizza'}, {'alias...     3.0   \n",
       "955  [{'alias': 'sandwiches', 'title': 'Sandwiches'...     3.0   \n",
       "\n",
       "                                           coordinates        transactions  \\\n",
       "951  {'latitude': 33.0723073917475, 'longitude': -1...          [delivery]   \n",
       "952  {'latitude': 33.1343765258789, 'longitude': -1...                  []   \n",
       "953  {'latitude': 33.019965, 'longitude': -117.114366}  [pickup, delivery]   \n",
       "954  {'latitude': 33.132928, 'longitude': -117.121677}  [pickup, delivery]   \n",
       "955  {'latitude': 32.99386433036879, 'longitude': -...  [pickup, delivery]   \n",
       "\n",
       "    price                                           location         phone  \\\n",
       "951    $$  {'address1': '1923 Calle Barcelona', 'address2...  +17603347755   \n",
       "952     $  {'address1': '120 E Lincoln Ave', 'address2': ...  +17604800800   \n",
       "953    $$  {'address1': '10430 Craftsman Way', 'address2'...  +18584511500   \n",
       "954     $  {'address1': '705 Center Dr', 'address2': 'Ste...  +17604896000   \n",
       "955    $$  {'address1': '667 San Rodolfo Drive', 'address...  +18584810050   \n",
       "\n",
       "      display_phone      distance  \n",
       "951  (760) 334-7755  32993.906277  \n",
       "952  (760) 480-0800  38748.621683  \n",
       "953  (858) 451-1500  25775.678988  \n",
       "954  (760) 489-6000  38186.255621  \n",
       "955  (858) 481-0050  24647.555727  "
      ]
     },
     "metadata": {},
     "output_type": "display_data"
    }
   ],
   "source": [
    "# load final results\n",
    "final_df = pd.read_json(JSON_FILE)\n",
    "display(final_df.head(), final_df.tail())"
   ]
  },
  {
   "cell_type": "code",
   "execution_count": 91,
   "id": "17f1b4d0",
   "metadata": {},
   "outputs": [
    {
     "data": {
      "text/plain": [
       "0"
      ]
     },
     "execution_count": 91,
     "metadata": {},
     "output_type": "execute_result"
    }
   ],
   "source": [
    "# check for duplicate IDs\n",
    "final_df.duplicated(subset='id').sum()"
   ]
  },
  {
   "cell_type": "code",
   "execution_count": 92,
   "id": "02fc911c",
   "metadata": {},
   "outputs": [],
   "source": [
    "# save the final results to a compressed csv\n",
    "final_df.to_csv('Data/results_SanDiego_Pasta.csv.gz', compression='gzip',index=False)"
   ]
  }
 ],
 "metadata": {
  "kernelspec": {
   "display_name": "Python 3 (ipykernel)",
   "language": "python",
   "name": "python3"
  },
  "language_info": {
   "codemirror_mode": {
    "name": "ipython",
    "version": 3
   },
   "file_extension": ".py",
   "mimetype": "text/x-python",
   "name": "python",
   "nbconvert_exporter": "python",
   "pygments_lexer": "ipython3",
   "version": "3.8.13"
  },
  "toc": {
   "base_numbering": 1,
   "nav_menu": {},
   "number_sections": false,
   "sideBar": true,
   "skip_h1_title": false,
   "title_cell": "Table of Contents",
   "title_sidebar": "Contents",
   "toc_cell": false,
   "toc_position": {},
   "toc_section_display": true,
   "toc_window_display": false
  }
 },
 "nbformat": 4,
 "nbformat_minor": 5
}
