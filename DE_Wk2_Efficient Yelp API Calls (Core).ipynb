{
 "cells": [
  {
   "cell_type": "code",
   "execution_count": 71,
   "id": "30b48fe8",
   "metadata": {},
   "outputs": [],
   "source": [
    "# Standard Imports\n",
    "import numpy as np\n",
    "import pandas as pd\n",
    "import matplotlib.pyplot as plt\n",
    "import seaborn as sns\n",
    "# Additional Imports\n",
    "import os, json, math, time\n",
    "from yelpapi import YelpAPI\n",
    "from tqdm.notebook import tqdm_notebook"
   ]
  },
  {
   "cell_type": "code",
   "execution_count": 72,
   "id": "53b4e30d",
   "metadata": {},
   "outputs": [],
   "source": [
    "# Load API Credentials\n",
    "with open('/Users/thoma/.secret/yelp_api.json') as f:   #use your path here!\n",
    "    login = json.load(f)\n",
    "# Instantiate YelpAPI Variable\n",
    "yelp_api = YelpAPI(login['api-key'], timeout_s=5.0)"
   ]
  },
  {
   "cell_type": "code",
   "execution_count": 73,
   "id": "3bf9755b",
   "metadata": {},
   "outputs": [],
   "source": [
    "# set our API call parameters and filename before the first call\n",
    "LOCATION = 'Toronto'\n",
    "TERM = 'Sushi'"
   ]
  },
  {
   "cell_type": "code",
   "execution_count": 74,
   "id": "89a1e988",
   "metadata": {},
   "outputs": [
    {
     "data": {
      "text/plain": [
       "'Data/results_Toronto_Sushi.json'"
      ]
     },
     "execution_count": 74,
     "metadata": {},
     "output_type": "execute_result"
    }
   ],
   "source": [
    "# Specifying JSON_FILE filename (can include a folder)\n",
    "# include the search terms in the filename\n",
    "JSON_FILE = f\"Data/results_Toronto_Sushi.json\"\n",
    "JSON_FILE"
   ]
  },
  {
   "cell_type": "code",
   "execution_count": 75,
   "id": "37d7d391",
   "metadata": {},
   "outputs": [
    {
     "name": "stdout",
     "output_type": "stream",
     "text": [
      "[i] Data/results_Toronto_Sushi.json already exists.\n"
     ]
    }
   ],
   "source": [
    "## Check if JSON_FILE exists\n",
    "file_exists = os.path.isfile(JSON_FILE)\n",
    "## If it does not exist: \n",
    "if file_exists == False:\n",
    "    \n",
    "    ## CREATE ANY NEEDED FOLDERS\n",
    "    # Get the Folder Name only\n",
    "    folder = os.path.dirname(JSON_FILE)\n",
    "    ## If JSON_FILE included a folder:\n",
    "    if len(folder)>0:\n",
    "        # create the folder\n",
    "        os.makedirs(folder,exist_ok=True)\n",
    "        \n",
    "        \n",
    "    ## INFORM USER AND SAVE EMPTY LIST\n",
    "    print(f\"[i] {JSON_FILE} not found. Saving empty list to file.\")\n",
    "    \n",
    "    \n",
    "    ## save the first page of results\n",
    "    with open(JSON_FILE,'w') as f:\n",
    "        json.dump([],f)  \n",
    "## If it exists, inform user\n",
    "else:\n",
    "    print(f\"[i] {JSON_FILE} already exists.\")"
   ]
  },
  {
   "cell_type": "code",
   "execution_count": 76,
   "id": "7a4887ea",
   "metadata": {},
   "outputs": [
    {
     "name": "stdout",
     "output_type": "stream",
     "text": [
      "- 788 previous results found.\n"
     ]
    }
   ],
   "source": [
    "## Load previous results and use len of results for offset\n",
    "with open(JSON_FILE,'r') as f:\n",
    "    previous_results = json.load(f)\n",
    "    \n",
    "## set offset based on previous results\n",
    "n_results = len(previous_results)\n",
    "print(f'- {n_results} previous results found.')"
   ]
  },
  {
   "cell_type": "code",
   "execution_count": 77,
   "id": "4a6b103e",
   "metadata": {},
   "outputs": [
    {
     "data": {
      "text/plain": [
       "dict_keys(['businesses', 'total', 'region'])"
      ]
     },
     "execution_count": 77,
     "metadata": {},
     "output_type": "execute_result"
    }
   ],
   "source": [
    "# use our yelp_api variable's search_query method to perform our API call\n",
    "results = yelp_api.search_query(location=LOCATION,\n",
    "                                term=TERM,\n",
    "                               offset=n_results)\n",
    "results.keys()"
   ]
  },
  {
   "cell_type": "code",
   "execution_count": 78,
   "id": "623c2fd9",
   "metadata": {},
   "outputs": [
    {
     "data": {
      "text/plain": [
       "788"
      ]
     },
     "execution_count": 78,
     "metadata": {},
     "output_type": "execute_result"
    }
   ],
   "source": [
    "## How many results total?\n",
    "total_results = results['total']\n",
    "total_results"
   ]
  },
  {
   "cell_type": "code",
   "execution_count": 79,
   "id": "4e197e18",
   "metadata": {},
   "outputs": [
    {
     "data": {
      "text/plain": [
       "0"
      ]
     },
     "execution_count": 79,
     "metadata": {},
     "output_type": "execute_result"
    }
   ],
   "source": [
    "## How many did we get the details for?\n",
    "results_per_page = len(results['businesses'])\n",
    "results_per_page"
   ]
  },
  {
   "cell_type": "code",
   "execution_count": 80,
   "id": "c7242514",
   "metadata": {},
   "outputs": [
    {
     "ename": "ZeroDivisionError",
     "evalue": "division by zero",
     "output_type": "error",
     "traceback": [
      "\u001b[1;31m---------------------------------------------------------------------------\u001b[0m",
      "\u001b[1;31mZeroDivisionError\u001b[0m                         Traceback (most recent call last)",
      "Input \u001b[1;32mIn [80]\u001b[0m, in \u001b[0;36m<cell line: 4>\u001b[1;34m()\u001b[0m\n\u001b[0;32m      2\u001b[0m \u001b[38;5;28;01mimport\u001b[39;00m \u001b[38;5;21;01mtime\u001b[39;00m\u001b[38;5;241m,\u001b[39m \u001b[38;5;21;01mmath\u001b[39;00m\n\u001b[0;32m      3\u001b[0m \u001b[38;5;66;03m# Use math.ceil to round up for the total number of pages of results.\u001b[39;00m\n\u001b[1;32m----> 4\u001b[0m n_pages \u001b[38;5;241m=\u001b[39m math\u001b[38;5;241m.\u001b[39mceil(\u001b[43m(\u001b[49m\u001b[43mresults\u001b[49m\u001b[43m[\u001b[49m\u001b[38;5;124;43m'\u001b[39;49m\u001b[38;5;124;43mtotal\u001b[39;49m\u001b[38;5;124;43m'\u001b[39;49m\u001b[43m]\u001b[49m\u001b[38;5;241;43m-\u001b[39;49m\u001b[43mn_results\u001b[49m\u001b[43m)\u001b[49m\u001b[38;5;241;43m/\u001b[39;49m\u001b[43m \u001b[49m\u001b[43mresults_per_page\u001b[49m)\n\u001b[0;32m      5\u001b[0m n_pages\n",
      "\u001b[1;31mZeroDivisionError\u001b[0m: division by zero"
     ]
    }
   ],
   "source": [
    "# Import additional packages for controlling our loop\n",
    "import time, math\n",
    "# Use math.ceil to round up for the total number of pages of results.\n",
    "n_pages = math.ceil((results['total']-n_results)/ results_per_page)\n",
    "n_pages"
   ]
  },
  {
   "cell_type": "code",
   "execution_count": 81,
   "id": "c6db3bec",
   "metadata": {},
   "outputs": [],
   "source": [
    "# join new results with old list with extend and save to file\n",
    "previous_results.extend(results['businesses'])  \n",
    "with open(JSON_FILE,'w') as f:\n",
    "     json.dump(previous_results,f)"
   ]
  },
  {
   "cell_type": "code",
   "execution_count": 82,
   "id": "24615b43",
   "metadata": {},
   "outputs": [
    {
     "data": {
      "application/vnd.jupyter.widget-view+json": {
       "model_id": "ea144a338a584550a2eca0d06a51622d",
       "version_major": 2,
       "version_minor": 0
      },
      "text/plain": [
       "  0%|          | 0/40 [00:00<?, ?it/s]"
      ]
     },
     "metadata": {},
     "output_type": "display_data"
    }
   ],
   "source": [
    "# add progress bar\n",
    "from tqdm.notebook import tqdm_notebook\n",
    "import time\n",
    "for i in tqdm_notebook(range(n_pages)):\n",
    "    # adds 200 ms pause\n",
    "    time.sleep(.2) "
   ]
  },
  {
   "cell_type": "code",
   "execution_count": 83,
   "id": "9c717799",
   "metadata": {},
   "outputs": [
    {
     "data": {
      "application/vnd.jupyter.widget-view+json": {
       "model_id": "52ce25b38ec9432d8e604615ff8632f9",
       "version_major": 2,
       "version_minor": 0
      },
      "text/plain": [
       "  0%|          | 0/40 [00:00<?, ?it/s]"
      ]
     },
     "metadata": {},
     "output_type": "display_data"
    }
   ],
   "source": [
    "for i in tqdm_notebook( range(1,n_pages+1)):\n",
    "    time.sleep(.2)\n",
    "    ## Read in results in progress file and check the length\n",
    "    with open(JSON_FILE, 'r') as f:\n",
    "        previous_results = json.load(f)\n",
    "    ## save number of results for to use as offset\n",
    "    n_results = len(previous_results)\n",
    "    ## use n_results as the OFFSET \n",
    "    results = yelp_api.search_query(location=LOCATION,\n",
    "                                    term=TERM, \n",
    "                                    offset=n_results)\n",
    "    \n",
    "    ## append new results and save to file\n",
    "    previous_results.extend(results['businesses'])\n",
    "    \n",
    "#     display(previous_results)\n",
    "    with open(JSON_FILE,'w') as f:\n",
    "        json.dump(previous_results,f)"
   ]
  },
  {
   "cell_type": "code",
   "execution_count": 84,
   "id": "d901805a",
   "metadata": {},
   "outputs": [
    {
     "data": {
      "text/html": [
       "<div>\n",
       "<style scoped>\n",
       "    .dataframe tbody tr th:only-of-type {\n",
       "        vertical-align: middle;\n",
       "    }\n",
       "\n",
       "    .dataframe tbody tr th {\n",
       "        vertical-align: top;\n",
       "    }\n",
       "\n",
       "    .dataframe thead th {\n",
       "        text-align: right;\n",
       "    }\n",
       "</style>\n",
       "<table border=\"1\" class=\"dataframe\">\n",
       "  <thead>\n",
       "    <tr style=\"text-align: right;\">\n",
       "      <th></th>\n",
       "      <th>id</th>\n",
       "      <th>alias</th>\n",
       "      <th>name</th>\n",
       "      <th>image_url</th>\n",
       "      <th>is_closed</th>\n",
       "      <th>url</th>\n",
       "      <th>review_count</th>\n",
       "      <th>categories</th>\n",
       "      <th>rating</th>\n",
       "      <th>coordinates</th>\n",
       "      <th>transactions</th>\n",
       "      <th>price</th>\n",
       "      <th>location</th>\n",
       "      <th>phone</th>\n",
       "      <th>display_phone</th>\n",
       "      <th>distance</th>\n",
       "    </tr>\n",
       "  </thead>\n",
       "  <tbody>\n",
       "    <tr>\n",
       "      <th>0</th>\n",
       "      <td>hDy-uY7Vy_TZdGBzw59lhA</td>\n",
       "      <td>saku-sushi-toronto-2</td>\n",
       "      <td>Saku Sushi</td>\n",
       "      <td>https://s3-media3.fl.yelpcdn.com/bphoto/xBtbkh...</td>\n",
       "      <td>False</td>\n",
       "      <td>https://www.yelp.com/biz/saku-sushi-toronto-2?...</td>\n",
       "      <td>514</td>\n",
       "      <td>[{'alias': 'sushi', 'title': 'Sushi Bars'}, {'...</td>\n",
       "      <td>4.0</td>\n",
       "      <td>{'latitude': 43.6482, 'longitude': -79.4003}</td>\n",
       "      <td>[]</td>\n",
       "      <td>$$</td>\n",
       "      <td>{'address1': '478 Queen Street W', 'address2':...</td>\n",
       "      <td>+14163687258</td>\n",
       "      <td>+1 416-368-7258</td>\n",
       "      <td>2921.275091</td>\n",
       "    </tr>\n",
       "    <tr>\n",
       "      <th>1</th>\n",
       "      <td>q9_gLvTNf11etVxbH7JY0Q</td>\n",
       "      <td>yasu-toronto-8</td>\n",
       "      <td>Yasu</td>\n",
       "      <td>https://s3-media3.fl.yelpcdn.com/bphoto/X7fGAd...</td>\n",
       "      <td>False</td>\n",
       "      <td>https://www.yelp.com/biz/yasu-toronto-8?adjust...</td>\n",
       "      <td>397</td>\n",
       "      <td>[{'alias': 'japanese', 'title': 'Japanese'}, {...</td>\n",
       "      <td>4.5</td>\n",
       "      <td>{'latitude': 43.66269, 'longitude': -79.40314}</td>\n",
       "      <td>[]</td>\n",
       "      <td>$$$$</td>\n",
       "      <td>{'address1': '81 Harbord Street', 'address2': ...</td>\n",
       "      <td>+14164772361</td>\n",
       "      <td>+1 416-477-2361</td>\n",
       "      <td>1382.224247</td>\n",
       "    </tr>\n",
       "    <tr>\n",
       "      <th>2</th>\n",
       "      <td>RtUvSWO_UZ8V3Wpj0n077w</td>\n",
       "      <td>kinka-izakaya-original-toronto-4</td>\n",
       "      <td>KINKA IZAKAYA ORIGINAL</td>\n",
       "      <td>https://s3-media3.fl.yelpcdn.com/bphoto/nHFVve...</td>\n",
       "      <td>False</td>\n",
       "      <td>https://www.yelp.com/biz/kinka-izakaya-origina...</td>\n",
       "      <td>1721</td>\n",
       "      <td>[{'alias': 'japanese', 'title': 'Japanese'}, {...</td>\n",
       "      <td>4.0</td>\n",
       "      <td>{'latitude': 43.66042406856627, 'longitude': -...</td>\n",
       "      <td>[restaurant_reservation]</td>\n",
       "      <td>$$</td>\n",
       "      <td>{'address1': '398 Church Street', 'address2': ...</td>\n",
       "      <td>+14169770999</td>\n",
       "      <td>+1 416-977-0999</td>\n",
       "      <td>2109.959512</td>\n",
       "    </tr>\n",
       "    <tr>\n",
       "      <th>3</th>\n",
       "      <td>G1Ce_QBHwT_R8Fc2-ARrwQ</td>\n",
       "      <td>tachi-toronto-2</td>\n",
       "      <td>Tachi</td>\n",
       "      <td>https://s3-media3.fl.yelpcdn.com/bphoto/kLNyCz...</td>\n",
       "      <td>False</td>\n",
       "      <td>https://www.yelp.com/biz/tachi-toronto-2?adjus...</td>\n",
       "      <td>162</td>\n",
       "      <td>[{'alias': 'sushi', 'title': 'Sushi Bars'}, {'...</td>\n",
       "      <td>4.5</td>\n",
       "      <td>{'latitude': 43.6502911, 'longitude': -79.3839...</td>\n",
       "      <td>[]</td>\n",
       "      <td>$$$$</td>\n",
       "      <td>{'address1': '111 Richmond Street W', 'address...</td>\n",
       "      <td>+14379746367</td>\n",
       "      <td>+1 437-974-6367</td>\n",
       "      <td>2861.455410</td>\n",
       "    </tr>\n",
       "    <tr>\n",
       "      <th>4</th>\n",
       "      <td>CCiSthI4jR1EdKg1HJMcNw</td>\n",
       "      <td>yuugi-izakaya-toronto</td>\n",
       "      <td>Yuugi Izakaya</td>\n",
       "      <td>https://s3-media2.fl.yelpcdn.com/bphoto/-sUhJG...</td>\n",
       "      <td>False</td>\n",
       "      <td>https://www.yelp.com/biz/yuugi-izakaya-toronto...</td>\n",
       "      <td>67</td>\n",
       "      <td>[{'alias': 'japanese', 'title': 'Japanese'}, {...</td>\n",
       "      <td>4.5</td>\n",
       "      <td>{'latitude': 43.65574, 'longitude': -79.39382}</td>\n",
       "      <td>[]</td>\n",
       "      <td>NaN</td>\n",
       "      <td>{'address1': '49 Baldwin Street', 'address2': ...</td>\n",
       "      <td>+16473438282</td>\n",
       "      <td>+1 647-343-8282</td>\n",
       "      <td>2070.227588</td>\n",
       "    </tr>\n",
       "  </tbody>\n",
       "</table>\n",
       "</div>"
      ],
      "text/plain": [
       "                       id                             alias  \\\n",
       "0  hDy-uY7Vy_TZdGBzw59lhA              saku-sushi-toronto-2   \n",
       "1  q9_gLvTNf11etVxbH7JY0Q                    yasu-toronto-8   \n",
       "2  RtUvSWO_UZ8V3Wpj0n077w  kinka-izakaya-original-toronto-4   \n",
       "3  G1Ce_QBHwT_R8Fc2-ARrwQ                   tachi-toronto-2   \n",
       "4  CCiSthI4jR1EdKg1HJMcNw             yuugi-izakaya-toronto   \n",
       "\n",
       "                     name                                          image_url  \\\n",
       "0              Saku Sushi  https://s3-media3.fl.yelpcdn.com/bphoto/xBtbkh...   \n",
       "1                    Yasu  https://s3-media3.fl.yelpcdn.com/bphoto/X7fGAd...   \n",
       "2  KINKA IZAKAYA ORIGINAL  https://s3-media3.fl.yelpcdn.com/bphoto/nHFVve...   \n",
       "3                   Tachi  https://s3-media3.fl.yelpcdn.com/bphoto/kLNyCz...   \n",
       "4           Yuugi Izakaya  https://s3-media2.fl.yelpcdn.com/bphoto/-sUhJG...   \n",
       "\n",
       "   is_closed                                                url  review_count  \\\n",
       "0      False  https://www.yelp.com/biz/saku-sushi-toronto-2?...           514   \n",
       "1      False  https://www.yelp.com/biz/yasu-toronto-8?adjust...           397   \n",
       "2      False  https://www.yelp.com/biz/kinka-izakaya-origina...          1721   \n",
       "3      False  https://www.yelp.com/biz/tachi-toronto-2?adjus...           162   \n",
       "4      False  https://www.yelp.com/biz/yuugi-izakaya-toronto...            67   \n",
       "\n",
       "                                          categories  rating  \\\n",
       "0  [{'alias': 'sushi', 'title': 'Sushi Bars'}, {'...     4.0   \n",
       "1  [{'alias': 'japanese', 'title': 'Japanese'}, {...     4.5   \n",
       "2  [{'alias': 'japanese', 'title': 'Japanese'}, {...     4.0   \n",
       "3  [{'alias': 'sushi', 'title': 'Sushi Bars'}, {'...     4.5   \n",
       "4  [{'alias': 'japanese', 'title': 'Japanese'}, {...     4.5   \n",
       "\n",
       "                                         coordinates  \\\n",
       "0       {'latitude': 43.6482, 'longitude': -79.4003}   \n",
       "1     {'latitude': 43.66269, 'longitude': -79.40314}   \n",
       "2  {'latitude': 43.66042406856627, 'longitude': -...   \n",
       "3  {'latitude': 43.6502911, 'longitude': -79.3839...   \n",
       "4     {'latitude': 43.65574, 'longitude': -79.39382}   \n",
       "\n",
       "               transactions price  \\\n",
       "0                        []    $$   \n",
       "1                        []  $$$$   \n",
       "2  [restaurant_reservation]    $$   \n",
       "3                        []  $$$$   \n",
       "4                        []   NaN   \n",
       "\n",
       "                                            location         phone  \\\n",
       "0  {'address1': '478 Queen Street W', 'address2':...  +14163687258   \n",
       "1  {'address1': '81 Harbord Street', 'address2': ...  +14164772361   \n",
       "2  {'address1': '398 Church Street', 'address2': ...  +14169770999   \n",
       "3  {'address1': '111 Richmond Street W', 'address...  +14379746367   \n",
       "4  {'address1': '49 Baldwin Street', 'address2': ...  +16473438282   \n",
       "\n",
       "     display_phone     distance  \n",
       "0  +1 416-368-7258  2921.275091  \n",
       "1  +1 416-477-2361  1382.224247  \n",
       "2  +1 416-977-0999  2109.959512  \n",
       "3  +1 437-974-6367  2861.455410  \n",
       "4  +1 647-343-8282  2070.227588  "
      ]
     },
     "metadata": {},
     "output_type": "display_data"
    },
    {
     "data": {
      "text/html": [
       "<div>\n",
       "<style scoped>\n",
       "    .dataframe tbody tr th:only-of-type {\n",
       "        vertical-align: middle;\n",
       "    }\n",
       "\n",
       "    .dataframe tbody tr th {\n",
       "        vertical-align: top;\n",
       "    }\n",
       "\n",
       "    .dataframe thead th {\n",
       "        text-align: right;\n",
       "    }\n",
       "</style>\n",
       "<table border=\"1\" class=\"dataframe\">\n",
       "  <thead>\n",
       "    <tr style=\"text-align: right;\">\n",
       "      <th></th>\n",
       "      <th>id</th>\n",
       "      <th>alias</th>\n",
       "      <th>name</th>\n",
       "      <th>image_url</th>\n",
       "      <th>is_closed</th>\n",
       "      <th>url</th>\n",
       "      <th>review_count</th>\n",
       "      <th>categories</th>\n",
       "      <th>rating</th>\n",
       "      <th>coordinates</th>\n",
       "      <th>transactions</th>\n",
       "      <th>price</th>\n",
       "      <th>location</th>\n",
       "      <th>phone</th>\n",
       "      <th>display_phone</th>\n",
       "      <th>distance</th>\n",
       "    </tr>\n",
       "  </thead>\n",
       "  <tbody>\n",
       "    <tr>\n",
       "      <th>783</th>\n",
       "      <td>anGYRueZJKYCJefKFccfjA</td>\n",
       "      <td>made-in-china-hot-pot-toronto-2</td>\n",
       "      <td>Made In China Hot Pot</td>\n",
       "      <td>https://s3-media2.fl.yelpcdn.com/bphoto/SDuYa8...</td>\n",
       "      <td>False</td>\n",
       "      <td>https://www.yelp.com/biz/made-in-china-hot-pot...</td>\n",
       "      <td>70</td>\n",
       "      <td>[{'alias': 'chinese', 'title': 'Chinese'}, {'a...</td>\n",
       "      <td>3.5</td>\n",
       "      <td>{'latitude': 43.8061957242859, 'longitude': -7...</td>\n",
       "      <td>[]</td>\n",
       "      <td>$$</td>\n",
       "      <td>{'address1': '3280 Midland Ave E', 'address2':...</td>\n",
       "      <td>+14163328807</td>\n",
       "      <td>+1 416-332-8807</td>\n",
       "      <td>17055.490481</td>\n",
       "    </tr>\n",
       "    <tr>\n",
       "      <th>784</th>\n",
       "      <td>7hUp4XxmUCGqvPFAM8IJww</td>\n",
       "      <td>moxies-scarborough</td>\n",
       "      <td>Moxies</td>\n",
       "      <td>https://s3-media2.fl.yelpcdn.com/bphoto/hZa74e...</td>\n",
       "      <td>False</td>\n",
       "      <td>https://www.yelp.com/biz/moxies-scarborough?ad...</td>\n",
       "      <td>113</td>\n",
       "      <td>[{'alias': 'newcanadian', 'title': 'Canadian (...</td>\n",
       "      <td>3.0</td>\n",
       "      <td>{'latitude': 43.7754047, 'longitude': -79.2541...</td>\n",
       "      <td>[]</td>\n",
       "      <td>$$</td>\n",
       "      <td>{'address1': '215 300 Borough Drive', 'address...</td>\n",
       "      <td>+14162968803</td>\n",
       "      <td>+1 416-296-8803</td>\n",
       "      <td>15945.689336</td>\n",
       "    </tr>\n",
       "    <tr>\n",
       "      <th>785</th>\n",
       "      <td>fHeaQtfx7HuPzXKeO1XwwQ</td>\n",
       "      <td>moxies-vaughan-2</td>\n",
       "      <td>Moxies</td>\n",
       "      <td>https://s3-media2.fl.yelpcdn.com/bphoto/KZYjwX...</td>\n",
       "      <td>False</td>\n",
       "      <td>https://www.yelp.com/biz/moxies-vaughan-2?adju...</td>\n",
       "      <td>83</td>\n",
       "      <td>[{'alias': 'newcanadian', 'title': 'Canadian (...</td>\n",
       "      <td>3.5</td>\n",
       "      <td>{'latitude': 43.7871508901057, 'longitude': -7...</td>\n",
       "      <td>[]</td>\n",
       "      <td>$$</td>\n",
       "      <td>{'address1': '30 Colossus Dr', 'address2': 'Un...</td>\n",
       "      <td>+19052658090</td>\n",
       "      <td>+1 905-265-8090</td>\n",
       "      <td>17211.567259</td>\n",
       "    </tr>\n",
       "    <tr>\n",
       "      <th>786</th>\n",
       "      <td>zYPc6o81Em23wRW8oq7_3w</td>\n",
       "      <td>real-canadian-superstore-scarborough-2</td>\n",
       "      <td>Real Canadian Superstore</td>\n",
       "      <td>https://s3-media2.fl.yelpcdn.com/bphoto/1kNz7_...</td>\n",
       "      <td>False</td>\n",
       "      <td>https://www.yelp.com/biz/real-canadian-superst...</td>\n",
       "      <td>36</td>\n",
       "      <td>[{'alias': 'grocery', 'title': 'Grocery'}]</td>\n",
       "      <td>3.0</td>\n",
       "      <td>{'latitude': 43.77815442534, 'longitude': -79....</td>\n",
       "      <td>[]</td>\n",
       "      <td>$$</td>\n",
       "      <td>{'address1': '1755 Brimley Road', 'address2': ...</td>\n",
       "      <td>+14162790802</td>\n",
       "      <td>+1 416-279-0802</td>\n",
       "      <td>15765.415170</td>\n",
       "    </tr>\n",
       "    <tr>\n",
       "      <th>787</th>\n",
       "      <td>SYExIal3fh3mS3kpoP9Ixg</td>\n",
       "      <td>eds-real-scoop-toronto</td>\n",
       "      <td>Ed's Real Scoop</td>\n",
       "      <td>https://s3-media4.fl.yelpcdn.com/bphoto/amdv9-...</td>\n",
       "      <td>False</td>\n",
       "      <td>https://www.yelp.com/biz/eds-real-scoop-toront...</td>\n",
       "      <td>121</td>\n",
       "      <td>[{'alias': 'icecream', 'title': 'Ice Cream &amp; F...</td>\n",
       "      <td>4.5</td>\n",
       "      <td>{'latitude': 43.67278, 'longitude': -79.2879899}</td>\n",
       "      <td>[]</td>\n",
       "      <td>$$</td>\n",
       "      <td>{'address1': '2224 Queen St E', 'address2': ''...</td>\n",
       "      <td>+14166996100</td>\n",
       "      <td>+1 416-699-6100</td>\n",
       "      <td>8752.348908</td>\n",
       "    </tr>\n",
       "  </tbody>\n",
       "</table>\n",
       "</div>"
      ],
      "text/plain": [
       "                         id                                   alias  \\\n",
       "783  anGYRueZJKYCJefKFccfjA         made-in-china-hot-pot-toronto-2   \n",
       "784  7hUp4XxmUCGqvPFAM8IJww                      moxies-scarborough   \n",
       "785  fHeaQtfx7HuPzXKeO1XwwQ                        moxies-vaughan-2   \n",
       "786  zYPc6o81Em23wRW8oq7_3w  real-canadian-superstore-scarborough-2   \n",
       "787  SYExIal3fh3mS3kpoP9Ixg                  eds-real-scoop-toronto   \n",
       "\n",
       "                         name  \\\n",
       "783     Made In China Hot Pot   \n",
       "784                    Moxies   \n",
       "785                    Moxies   \n",
       "786  Real Canadian Superstore   \n",
       "787           Ed's Real Scoop   \n",
       "\n",
       "                                             image_url  is_closed  \\\n",
       "783  https://s3-media2.fl.yelpcdn.com/bphoto/SDuYa8...      False   \n",
       "784  https://s3-media2.fl.yelpcdn.com/bphoto/hZa74e...      False   \n",
       "785  https://s3-media2.fl.yelpcdn.com/bphoto/KZYjwX...      False   \n",
       "786  https://s3-media2.fl.yelpcdn.com/bphoto/1kNz7_...      False   \n",
       "787  https://s3-media4.fl.yelpcdn.com/bphoto/amdv9-...      False   \n",
       "\n",
       "                                                   url  review_count  \\\n",
       "783  https://www.yelp.com/biz/made-in-china-hot-pot...            70   \n",
       "784  https://www.yelp.com/biz/moxies-scarborough?ad...           113   \n",
       "785  https://www.yelp.com/biz/moxies-vaughan-2?adju...            83   \n",
       "786  https://www.yelp.com/biz/real-canadian-superst...            36   \n",
       "787  https://www.yelp.com/biz/eds-real-scoop-toront...           121   \n",
       "\n",
       "                                            categories  rating  \\\n",
       "783  [{'alias': 'chinese', 'title': 'Chinese'}, {'a...     3.5   \n",
       "784  [{'alias': 'newcanadian', 'title': 'Canadian (...     3.0   \n",
       "785  [{'alias': 'newcanadian', 'title': 'Canadian (...     3.5   \n",
       "786         [{'alias': 'grocery', 'title': 'Grocery'}]     3.0   \n",
       "787  [{'alias': 'icecream', 'title': 'Ice Cream & F...     4.5   \n",
       "\n",
       "                                           coordinates transactions price  \\\n",
       "783  {'latitude': 43.8061957242859, 'longitude': -7...           []    $$   \n",
       "784  {'latitude': 43.7754047, 'longitude': -79.2541...           []    $$   \n",
       "785  {'latitude': 43.7871508901057, 'longitude': -7...           []    $$   \n",
       "786  {'latitude': 43.77815442534, 'longitude': -79....           []    $$   \n",
       "787   {'latitude': 43.67278, 'longitude': -79.2879899}           []    $$   \n",
       "\n",
       "                                              location         phone  \\\n",
       "783  {'address1': '3280 Midland Ave E', 'address2':...  +14163328807   \n",
       "784  {'address1': '215 300 Borough Drive', 'address...  +14162968803   \n",
       "785  {'address1': '30 Colossus Dr', 'address2': 'Un...  +19052658090   \n",
       "786  {'address1': '1755 Brimley Road', 'address2': ...  +14162790802   \n",
       "787  {'address1': '2224 Queen St E', 'address2': ''...  +14166996100   \n",
       "\n",
       "       display_phone      distance  \n",
       "783  +1 416-332-8807  17055.490481  \n",
       "784  +1 416-296-8803  15945.689336  \n",
       "785  +1 905-265-8090  17211.567259  \n",
       "786  +1 416-279-0802  15765.415170  \n",
       "787  +1 416-699-6100   8752.348908  "
      ]
     },
     "metadata": {},
     "output_type": "display_data"
    }
   ],
   "source": [
    "# load final results\n",
    "final_df = pd.read_json(JSON_FILE)\n",
    "display(final_df.head(), final_df.tail())"
   ]
  },
  {
   "cell_type": "code",
   "execution_count": 85,
   "id": "17f1b4d0",
   "metadata": {},
   "outputs": [
    {
     "data": {
      "text/plain": [
       "0"
      ]
     },
     "execution_count": 85,
     "metadata": {},
     "output_type": "execute_result"
    }
   ],
   "source": [
    "# check for duplicate IDs\n",
    "final_df.duplicated(subset='id').sum()"
   ]
  },
  {
   "cell_type": "code",
   "execution_count": 86,
   "id": "02fc911c",
   "metadata": {},
   "outputs": [],
   "source": [
    "# save the final results to a compressed csv\n",
    "final_df.to_csv('Data/results_Toronto_Sushi.csv.gz', compression='gzip',index=False)"
   ]
  }
 ],
 "metadata": {
  "kernelspec": {
   "display_name": "Python 3 (ipykernel)",
   "language": "python",
   "name": "python3"
  },
  "language_info": {
   "codemirror_mode": {
    "name": "ipython",
    "version": 3
   },
   "file_extension": ".py",
   "mimetype": "text/x-python",
   "name": "python",
   "nbconvert_exporter": "python",
   "pygments_lexer": "ipython3",
   "version": "3.8.13"
  },
  "toc": {
   "base_numbering": 1,
   "nav_menu": {},
   "number_sections": false,
   "sideBar": true,
   "skip_h1_title": false,
   "title_cell": "Table of Contents",
   "title_sidebar": "Contents",
   "toc_cell": false,
   "toc_position": {},
   "toc_section_display": true,
   "toc_window_display": false
  }
 },
 "nbformat": 4,
 "nbformat_minor": 5
}
